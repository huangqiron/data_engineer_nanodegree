{
 "cells": [
  {
   "cell_type": "markdown",
   "metadata": {
    "editable": true
   },
   "source": [
    "#### Task Description\n",
    "There are multiple event data files fo a music app history in the event_data folder. These files need to be imported into Cassandra databases for three types of queries:\n",
    "1. Find artist's name, song's title and song's length in the music app history that was heard during  sessionId = 338, and itemInSession  = 4\n",
    "2. Find artist's name, song's title (sorted by itemInSession) and user's name (first and last name) for userid = 10, sessionid = 182\n",
    "3. Find every user's name (first and last name) in my music app history who listened to the song 'All Hands Against His Own'\n",
    "\n",
    "#### Source File\n",
    "There are eleven columns in the event data files:\n",
    "- artist \n",
    "- firstName of user\n",
    "- gender of user\n",
    "- item number in session\n",
    "- last name of user\n",
    "- length of the song\n",
    "- level (paid or free song)\n",
    "- location of the user\n",
    "- sessionId\n",
    "- song title\n",
    "- userId\n",
    "\n",
    "#### Workflow\n",
    "There are four main steps to accomplish the requirements:\n",
    "1. Preprocessing all the event data files and merging all the data into a new csv file.\n",
    "2. Creating the keyspace and connecting to the keysapce\n",
    "3. Creating tables according to the queries and populating data into the tables\n",
    "4. Run the queries"
   ]
  },
  {
   "cell_type": "markdown",
   "metadata": {
    "editable": true
   },
   "source": [
    "#### Import Python packages "
   ]
  },
  {
   "cell_type": "code",
   "execution_count": 1,
   "metadata": {
    "editable": true
   },
   "outputs": [],
   "source": [
    "import pandas as pd\n",
    "import cassandra\n",
    "import re\n",
    "import os\n",
    "import glob\n",
    "import numpy as np\n",
    "import json\n",
    "import csv"
   ]
  },
  {
   "cell_type": "code",
   "execution_count": 9,
   "metadata": {
    "editable": true
   },
   "outputs": [
    {
     "name": "stdout",
     "output_type": "stream",
     "text": [
      "/home/workspace/event_data/\n",
      "/home/workspace/event_data/.ipynb_checkpoints\n"
     ]
    }
   ],
   "source": [
    "filepath = os.getcwd() + '/event_data/'\n",
    "for root, dirs, files in os.walk(filepath):   \n",
    "    print(root)\n",
    "    #print(dirs)\n",
    "    #print(files)\n",
    "\n"
   ]
  },
  {
   "cell_type": "markdown",
   "metadata": {
    "editable": true
   },
   "source": [
    "#### Preprocessing data files\n",
    "Processing the files to create a new csv file that will be used for populating Apache Casssandra tables. The number of lines in the csv file is shown in the end. "
   ]
  },
  {
   "cell_type": "code",
   "execution_count": 11,
   "metadata": {
    "editable": true
   },
   "outputs": [
    {
     "name": "stdout",
     "output_type": "stream",
     "text": [
      "6821\n"
     ]
    }
   ],
   "source": [
    "filepath = os.getcwd() + '/event_data'\n",
    "\n",
    "for root, dirs, files in os.walk(filepath):    \n",
    "    file_path_list = glob.glob(os.path.join(filepath,'*'))    \n",
    "\n",
    "full_data_rows_list = []     \n",
    "\n",
    "for f in file_path_list:   \n",
    "    with open(f, 'r', encoding = 'utf8', newline='') as csvfile:        \n",
    "        csvreader = csv.reader(csvfile) \n",
    "        next(csvreader)        \n",
    "   \n",
    "        for line in csvreader:            \n",
    "            full_data_rows_list.append(line)          \n",
    "\n",
    "csv.register_dialect('myDialect', quoting=csv.QUOTE_ALL, skipinitialspace=True)\n",
    "\n",
    "with open('event_datafile_new.csv', 'w', encoding = 'utf8', newline='') as f:\n",
    "    writer = csv.writer(f, dialect='myDialect')\n",
    "    writer.writerow(['artist','firstName','gender','itemInSession','lastName','length',\\\n",
    "                'level','location','sessionId','song','userId'])\n",
    "    for row in full_data_rows_list:\n",
    "        if (row[0] == ''):\n",
    "            continue\n",
    "        writer.writerow((row[0], row[2], row[3], row[4], row[5], row[6], row[7], row[8], row[12], row[13], row[16]))\n",
    "        \n",
    "with open('event_datafile_new.csv', 'r', encoding = 'utf8') as f:\n",
    "    print(sum(1 for line in f))"
   ]
  },
  {
   "cell_type": "markdown",
   "metadata": {
    "editable": true
   },
   "source": [
    "The image below is a screenshot of the csv file\n",
    "<img src=\"images/image_event_datafile_new.jpg\">"
   ]
  },
  {
   "cell_type": "markdown",
   "metadata": {
    "editable": true
   },
   "source": [
    "#### Creating a new keyspace and connecting to it"
   ]
  },
  {
   "cell_type": "code",
   "execution_count": 12,
   "metadata": {
    "editable": true
   },
   "outputs": [],
   "source": [
    "from cassandra.cluster import Cluster\n",
    "cluster = Cluster()\n",
    "\n",
    "session = cluster.connect()\n",
    "\n",
    "session.execute(\"CREATE KEYSPACE IF NOT EXISTS EventDataDB WITH replication = {'class': 'SimpleStrategy', 'replication_factor' : 1};\")\n",
    "\n",
    "session.set_keyspace(\"eventdatadb\")"
   ]
  },
  {
   "cell_type": "markdown",
   "metadata": {
    "editable": true
   },
   "source": [
    "#### Creating tables according to the queries and populating data into the tables\n",
    "Since for NoSQL databases, the data model should accommodate the query, for each query I will create a table and populate data into it. "
   ]
  },
  {
   "cell_type": "markdown",
   "metadata": {
    "editable": true
   },
   "source": [
    "##### Query 1: Find artist's name, song's title and song's length in the music app history that was heard during  sessionId = 338, and itemInSession  = 4\n",
    "The query wants to know the song's information of the specific item in one session, which means sessionId and itemInSession are used to identify the song's information like artist's name, song's title and lenth. It's not hard to know that when a user use the music app, she/he may listen to one or multiple songs, so I used the sessionId as the partition key and itemInSession as the clustering column to store all the songs' information in the partition. \n",
    "\n",
    "I created a eventSession table below, imported data to the table from the csv file, and ran the query to examine my design. "
   ]
  },
  {
   "cell_type": "code",
   "execution_count": 14,
   "metadata": {
    "editable": true
   },
   "outputs": [
    {
     "name": "stdout",
     "output_type": "stream",
     "text": [
      "Row(artist='Faithless', song='Music Matters (Mark Knight Dub)', length=495.30731201171875)\n"
     ]
    }
   ],
   "source": [
    "session.execute(\"DROP TABLE IF EXISTS eventSession\")\n",
    "query = \"\"\"CREATE TABLE IF NOT EXISTS eventSession \n",
    "                                        (                                        \n",
    "                                         session_id int,\n",
    "                                         item_in_session int,                      \n",
    "                                         artist text, \n",
    "                                         song text,\n",
    "                                         length float,\n",
    "                                         PRIMARY KEY (session_id, item_in_session)\n",
    "                                         )\"\"\"\n",
    "\n",
    "session.execute(query)  \n",
    "\n",
    "file = 'event_datafile_new.csv'\n",
    "\n",
    "with open(file, encoding = 'utf8') as f:\n",
    "    csvreader = csv.reader(f)\n",
    "    next(csvreader)\n",
    "    for line in csvreader:    \n",
    "        query = \"INSERT INTO eventSession (session_id, item_in_session, artist, song, length)\"\n",
    "        query = query + \"VALUES(%s,%s,%s,%s,%s)\"\n",
    "        session.execute(query, (int(line[8]), int(line[3]), line[0], line[9], float(line[5])))\n",
    "        \n",
    "rows = session.execute(\"SELECT artist, song, length FROM eventSession WHERE session_id = 338 AND item_in_session = 4\")\n",
    "for row in rows:\n",
    "    print(row)"
   ]
  },
  {
   "cell_type": "markdown",
   "metadata": {
    "editable": true
   },
   "source": [
    "##### Query 2: Find artist's name, song's title (sorted by itemInSession) and user's name (first and last name) for userid = 10, sessionid = 182\n",
    "The query wants to know the song's information and user's name when a user use the music app in one session. So, userid and sessionid are used to identify the song's information and user's name. A user may use the music app one or multiple times, she/he may listen to one or multiple songs for each use, so I used the userid as the partition key and sessionid as the clustering column to store all the songs' information and user's name in the partition. Since the returned result should be sorted by the itemInSession, so the itemInsession are used as a clustering column, then the song's information and user's name will sorted by the itemInSession.\n",
    "\n",
    "I created a eventUser table below, imported data to the table from the csv file, and ran the query to examine my design. "
   ]
  },
  {
   "cell_type": "code",
   "execution_count": 15,
   "metadata": {
    "editable": true
   },
   "outputs": [
    {
     "name": "stdout",
     "output_type": "stream",
     "text": [
      "Row(artist='Down To The Bone', song=\"Keep On Keepin' On\", user='Sylvie Cruz')\n",
      "Row(artist='Three Drives', song='Greece 2000', user='Sylvie Cruz')\n",
      "Row(artist='Sebastien Tellier', song='Kilometer', user='Sylvie Cruz')\n",
      "Row(artist='Lonnie Gordon', song='Catch You Baby (Steve Pitron & Max Sanna Radio Edit)', user='Sylvie Cruz')\n"
     ]
    }
   ],
   "source": [
    "session.execute(\"DROP TABLE IF EXISTS eventUser\")\n",
    "query = \"\"\"CREATE TABLE IF NOT EXISTS eventUser\n",
    "                                        ( \n",
    "                                         user_id int,\n",
    "                                         session_id int,\n",
    "                                         item_in_session int,\n",
    "                                         artist text, \n",
    "                                         song text,\n",
    "                                         user text,\n",
    "                                         PRIMARY KEY (user_id, session_id, item_in_session)\n",
    "                                         )\"\"\"\n",
    "session.execute(query)\n",
    "\n",
    "file = 'event_datafile_new.csv'\n",
    "\n",
    "with open(file, encoding = 'utf8') as f:\n",
    "    csvreader = csv.reader(f)\n",
    "    next(csvreader)\n",
    "    for line in csvreader:      \n",
    "        query = \"INSERT INTO eventUser (user_id, session_id, item_in_session, artist, song, user)\"\n",
    "        query = query + \"VALUES(%s,%s,%s,%s,%s,%s)\"        \n",
    "        session.execute(query, (int(line[10]), int(line[8]), int(line[3]), line[0], line[9], line[1] + \" \" + line[4]))\n",
    "        \n",
    "\n",
    "rows = session.execute(\"SELECT artist, song, user FROM eventUser WHERE user_id = 10 AND session_id = 182\")\n",
    "for row in rows:\n",
    "    print(row)"
   ]
  },
  {
   "cell_type": "markdown",
   "metadata": {
    "editable": true
   },
   "source": [
    "##### Query 3: Find every user's name (first and last name) in my music app history who listened to the song 'All Hands Against His Own'\n",
    "The query wants to know the name of users who listened to a specific song. So, song's title is used to identify users' names. For one song, many users may listen to it, so I used the song's title as the partition key and userid (different userids may have the same user name) as the clustering column to store users' names in the partition. \n",
    "\n",
    "I created a eventSong table below, imported data to the table from the csv file, and ran the query to examine my design. "
   ]
  },
  {
   "cell_type": "code",
   "execution_count": 16,
   "metadata": {
    "editable": true
   },
   "outputs": [
    {
     "name": "stdout",
     "output_type": "stream",
     "text": [
      "Row(user='Jacqueline Lynch')\n",
      "Row(user='Tegan Levine')\n",
      "Row(user='Sara Johnson')\n"
     ]
    }
   ],
   "source": [
    "session.execute(\"DROP TABLE IF EXISTS eventSong\")\n",
    "query = \"\"\"CREATE TABLE IF NOT EXISTS eventSong \n",
    "                                        (                                        \n",
    "                                         song text, \n",
    "                                         user_id int,                                          \n",
    "                                         user text,\n",
    "                                         PRIMARY KEY (song, user_id)\n",
    "                                         )\"\"\"\n",
    "session.execute(query)\n",
    "\n",
    "file = 'event_datafile_new.csv'\n",
    "\n",
    "with open(file, encoding = 'utf8') as f:\n",
    "    csvreader = csv.reader(f)\n",
    "    next(csvreader)\n",
    "    for line in csvreader:      \n",
    "        query = \"INSERT INTO eventSong (song, user_id, user)\"\n",
    "        query = query + \"VALUES(%s,%s,%s)\"        \n",
    "        session.execute(query, (line[9], int(line[10]), line[1] + \" \" + line[4]))\n",
    "        \n",
    "\n",
    "rows = session.execute(\"SELECT user FROM eventSong WHERE song = 'All Hands Against His Own'\")\n",
    "for row in rows:\n",
    "    print(row)                    "
   ]
  },
  {
   "cell_type": "markdown",
   "metadata": {
    "editable": true
   },
   "source": [
    "#### Dropping the tables before closing out the sessions"
   ]
  },
  {
   "cell_type": "code",
   "execution_count": 17,
   "metadata": {
    "editable": true
   },
   "outputs": [
    {
     "data": {
      "text/plain": [
       "<cassandra.cluster.ResultSet at 0x7ff0ae0f2be0>"
      ]
     },
     "execution_count": 17,
     "metadata": {},
     "output_type": "execute_result"
    }
   ],
   "source": [
    "session.execute(\"DROP TABLE IF EXISTS eventSession\")\n",
    "session.execute(\"DROP TABLE IF EXISTS eventSong\")\n",
    "session.execute(\"DROP TABLE IF EXISTS eventUser\")"
   ]
  },
  {
   "cell_type": "markdown",
   "metadata": {
    "editable": true
   },
   "source": [
    "#### Closing the session and cluster connection"
   ]
  },
  {
   "cell_type": "code",
   "execution_count": 18,
   "metadata": {
    "editable": true
   },
   "outputs": [],
   "source": [
    "session.shutdown()\n",
    "cluster.shutdown()"
   ]
  }
 ],
 "metadata": {
  "kernelspec": {
   "display_name": "Python 3",
   "language": "python",
   "name": "python3"
  },
  "language_info": {
   "codemirror_mode": {
    "name": "ipython",
    "version": 3
   },
   "file_extension": ".py",
   "mimetype": "text/x-python",
   "name": "python",
   "nbconvert_exporter": "python",
   "pygments_lexer": "ipython3",
   "version": "3.6.3"
  }
 },
 "nbformat": 4,
 "nbformat_minor": 4
}
